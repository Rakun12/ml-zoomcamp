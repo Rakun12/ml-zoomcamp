{
 "cells": [
  {
   "cell_type": "markdown",
   "id": "2c5cb64d-0f92-46a6-b04e-36a51adfb008",
   "metadata": {},
   "source": [
    "# Homework for Week 3"
   ]
  },
  {
   "cell_type": "markdown",
   "id": "fbfb4b9b-7aeb-47e2-b019-2242b4e53316",
   "metadata": {},
   "source": [
    "## Dataset"
   ]
  },
  {
   "cell_type": "markdown",
   "id": "73819774-ccba-4e06-b638-51ac53a4b57f",
   "metadata": {},
   "source": [
    "The dataset will used is :"
   ]
  },
  {
   "cell_type": "code",
   "execution_count": 4,
   "id": "8b238e2b-bb47-467b-b9a6-987dbae02768",
   "metadata": {},
   "outputs": [],
   "source": [
    "# Import the relevant libraries\n",
    "import pandas as pd\n",
    "import numpy as np\n",
    "import matplotlib.pyplot as plt"
   ]
  },
  {
   "cell_type": "code",
   "execution_count": 5,
   "id": "982c4af6-6303-4608-84ab-c49e6b150425",
   "metadata": {},
   "outputs": [],
   "source": [
    "# link = \"https://archive.ics.uci.edu/static/public/222/bank+marketing.zip\"\n",
    "# !wget $link"
   ]
  },
  {
   "cell_type": "code",
   "execution_count": 6,
   "id": "f8e3a2f6-3b85-4a26-a4a1-2e59b8031460",
   "metadata": {},
   "outputs": [
    {
     "data": {
      "text/html": [
       "<div>\n",
       "<style scoped>\n",
       "    .dataframe tbody tr th:only-of-type {\n",
       "        vertical-align: middle;\n",
       "    }\n",
       "\n",
       "    .dataframe tbody tr th {\n",
       "        vertical-align: top;\n",
       "    }\n",
       "\n",
       "    .dataframe thead th {\n",
       "        text-align: right;\n",
       "    }\n",
       "</style>\n",
       "<table border=\"1\" class=\"dataframe\">\n",
       "  <thead>\n",
       "    <tr style=\"text-align: right;\">\n",
       "      <th></th>\n",
       "      <th>age</th>\n",
       "      <th>job</th>\n",
       "      <th>marital</th>\n",
       "      <th>education</th>\n",
       "      <th>default</th>\n",
       "      <th>balance</th>\n",
       "      <th>housing</th>\n",
       "      <th>loan</th>\n",
       "      <th>contact</th>\n",
       "      <th>day</th>\n",
       "      <th>month</th>\n",
       "      <th>duration</th>\n",
       "      <th>campaign</th>\n",
       "      <th>pdays</th>\n",
       "      <th>previous</th>\n",
       "      <th>poutcome</th>\n",
       "      <th>y</th>\n",
       "    </tr>\n",
       "  </thead>\n",
       "  <tbody>\n",
       "    <tr>\n",
       "      <th>0</th>\n",
       "      <td>58</td>\n",
       "      <td>management</td>\n",
       "      <td>married</td>\n",
       "      <td>tertiary</td>\n",
       "      <td>no</td>\n",
       "      <td>2143</td>\n",
       "      <td>yes</td>\n",
       "      <td>no</td>\n",
       "      <td>unknown</td>\n",
       "      <td>5</td>\n",
       "      <td>may</td>\n",
       "      <td>261</td>\n",
       "      <td>1</td>\n",
       "      <td>-1</td>\n",
       "      <td>0</td>\n",
       "      <td>unknown</td>\n",
       "      <td>no</td>\n",
       "    </tr>\n",
       "    <tr>\n",
       "      <th>1</th>\n",
       "      <td>44</td>\n",
       "      <td>technician</td>\n",
       "      <td>single</td>\n",
       "      <td>secondary</td>\n",
       "      <td>no</td>\n",
       "      <td>29</td>\n",
       "      <td>yes</td>\n",
       "      <td>no</td>\n",
       "      <td>unknown</td>\n",
       "      <td>5</td>\n",
       "      <td>may</td>\n",
       "      <td>151</td>\n",
       "      <td>1</td>\n",
       "      <td>-1</td>\n",
       "      <td>0</td>\n",
       "      <td>unknown</td>\n",
       "      <td>no</td>\n",
       "    </tr>\n",
       "    <tr>\n",
       "      <th>2</th>\n",
       "      <td>33</td>\n",
       "      <td>entrepreneur</td>\n",
       "      <td>married</td>\n",
       "      <td>secondary</td>\n",
       "      <td>no</td>\n",
       "      <td>2</td>\n",
       "      <td>yes</td>\n",
       "      <td>yes</td>\n",
       "      <td>unknown</td>\n",
       "      <td>5</td>\n",
       "      <td>may</td>\n",
       "      <td>76</td>\n",
       "      <td>1</td>\n",
       "      <td>-1</td>\n",
       "      <td>0</td>\n",
       "      <td>unknown</td>\n",
       "      <td>no</td>\n",
       "    </tr>\n",
       "    <tr>\n",
       "      <th>3</th>\n",
       "      <td>47</td>\n",
       "      <td>blue-collar</td>\n",
       "      <td>married</td>\n",
       "      <td>unknown</td>\n",
       "      <td>no</td>\n",
       "      <td>1506</td>\n",
       "      <td>yes</td>\n",
       "      <td>no</td>\n",
       "      <td>unknown</td>\n",
       "      <td>5</td>\n",
       "      <td>may</td>\n",
       "      <td>92</td>\n",
       "      <td>1</td>\n",
       "      <td>-1</td>\n",
       "      <td>0</td>\n",
       "      <td>unknown</td>\n",
       "      <td>no</td>\n",
       "    </tr>\n",
       "    <tr>\n",
       "      <th>4</th>\n",
       "      <td>33</td>\n",
       "      <td>unknown</td>\n",
       "      <td>single</td>\n",
       "      <td>unknown</td>\n",
       "      <td>no</td>\n",
       "      <td>1</td>\n",
       "      <td>no</td>\n",
       "      <td>no</td>\n",
       "      <td>unknown</td>\n",
       "      <td>5</td>\n",
       "      <td>may</td>\n",
       "      <td>198</td>\n",
       "      <td>1</td>\n",
       "      <td>-1</td>\n",
       "      <td>0</td>\n",
       "      <td>unknown</td>\n",
       "      <td>no</td>\n",
       "    </tr>\n",
       "  </tbody>\n",
       "</table>\n",
       "</div>"
      ],
      "text/plain": [
       "   age           job  marital  education default  balance housing loan  \\\n",
       "0   58    management  married   tertiary      no     2143     yes   no   \n",
       "1   44    technician   single  secondary      no       29     yes   no   \n",
       "2   33  entrepreneur  married  secondary      no        2     yes  yes   \n",
       "3   47   blue-collar  married    unknown      no     1506     yes   no   \n",
       "4   33       unknown   single    unknown      no        1      no   no   \n",
       "\n",
       "   contact  day month  duration  campaign  pdays  previous poutcome   y  \n",
       "0  unknown    5   may       261         1     -1         0  unknown  no  \n",
       "1  unknown    5   may       151         1     -1         0  unknown  no  \n",
       "2  unknown    5   may        76         1     -1         0  unknown  no  \n",
       "3  unknown    5   may        92         1     -1         0  unknown  no  \n",
       "4  unknown    5   may       198         1     -1         0  unknown  no  "
      ]
     },
     "execution_count": 6,
     "metadata": {},
     "output_type": "execute_result"
    }
   ],
   "source": [
    "# Preview of dataset\n",
    "df = pd.read_csv('data/bank_full.csv', delimiter=\";\")\n",
    "df.head()"
   ]
  },
  {
   "cell_type": "markdown",
   "id": "5388d9c1-cc30-45a6-a08a-12559eb21847",
   "metadata": {},
   "source": [
    "The columns used are:\n",
    "- `age`\n",
    "- `job`\n",
    "- `marital`\n",
    "- `education`\n",
    "- `balance`\n",
    "- `housing`\n",
    "- `contact`\n",
    "- `day`\n",
    "- `month`\n",
    "- `duration`\n",
    "- `campaign`\n",
    "- `pdays`\n",
    "- `previous`\n",
    "- `poutcome`\n",
    "- `y`"
   ]
  },
  {
   "cell_type": "markdown",
   "id": "b165fcc7-3883-4cd4-9a44-15ffd40c1e4d",
   "metadata": {},
   "source": [
    "## Data Preparation"
   ]
  },
  {
   "cell_type": "code",
   "execution_count": 9,
   "id": "6ea015ca-574c-4ae9-9c0d-922ce0ba9301",
   "metadata": {},
   "outputs": [],
   "source": [
    "# The columns used only\n",
    "features = ['age', 'job', 'marital', 'education', 'balance', \n",
    "            'housing', 'contact', 'day', 'month', 'duration', \n",
    "            'campaign', 'pdays', 'previous', 'poutcome', 'y']"
   ]
  },
  {
   "cell_type": "code",
   "execution_count": 10,
   "id": "6d7197e1-b7b9-4a22-8474-720e7c373696",
   "metadata": {
    "scrolled": true
   },
   "outputs": [
    {
     "data": {
      "text/plain": [
       "age          0\n",
       "job          0\n",
       "marital      0\n",
       "education    0\n",
       "balance      0\n",
       "housing      0\n",
       "contact      0\n",
       "day          0\n",
       "month        0\n",
       "duration     0\n",
       "campaign     0\n",
       "pdays        0\n",
       "previous     0\n",
       "poutcome     0\n",
       "y            0\n",
       "dtype: int64"
      ]
     },
     "execution_count": 10,
     "metadata": {},
     "output_type": "execute_result"
    }
   ],
   "source": [
    "df[features].isnull().sum()"
   ]
  },
  {
   "cell_type": "markdown",
   "id": "cc5b9fa0-ebc2-4787-9f77-4f0945e4680b",
   "metadata": {},
   "source": [
    "No missing value presented on this dataset"
   ]
  },
  {
   "cell_type": "code",
   "execution_count": 12,
   "id": "56c3a1fa-7f31-46ec-b871-862793827c9b",
   "metadata": {},
   "outputs": [],
   "source": [
    "df_used = df[features]"
   ]
  },
  {
   "cell_type": "markdown",
   "id": "23d05b01-3aba-4409-9009-c461321667f2",
   "metadata": {},
   "source": [
    "## Q1: Check the most frequent on `education`"
   ]
  },
  {
   "cell_type": "code",
   "execution_count": 14,
   "id": "39bc84d3-ebdc-41e6-a0f8-4904deefbf3d",
   "metadata": {},
   "outputs": [
    {
     "data": {
      "text/plain": [
       "0    secondary\n",
       "Name: education, dtype: object"
      ]
     },
     "execution_count": 14,
     "metadata": {},
     "output_type": "execute_result"
    }
   ],
   "source": [
    "df_used.education.mode()"
   ]
  },
  {
   "cell_type": "markdown",
   "id": "8f6141b9-00e7-4680-915b-ef0c5cbe59ac",
   "metadata": {},
   "source": [
    "The most frequent on education is `secondary`"
   ]
  },
  {
   "cell_type": "markdown",
   "id": "15fa6675-8094-4882-8d23-eab736f3b2a0",
   "metadata": {},
   "source": [
    "## Q2: Create corelation matrix"
   ]
  },
  {
   "cell_type": "code",
   "execution_count": 17,
   "id": "b04ac91e-89b3-4eb4-9f5d-e76d98114897",
   "metadata": {},
   "outputs": [
    {
     "data": {
      "text/plain": [
       "(array([[1.        , 0.09778274],\n",
       "        [0.09778274, 1.        ]]),\n",
       " array([[1.        , 0.16249022],\n",
       "        [0.16249022, 1.        ]]),\n",
       " array([[ 1.        , -0.09304407],\n",
       "        [-0.09304407,  1.        ]]),\n",
       " array([[1.        , 0.45481964],\n",
       "        [0.45481964, 1.        ]]))"
      ]
     },
     "execution_count": 17,
     "metadata": {},
     "output_type": "execute_result"
    }
   ],
   "source": [
    "from sklearn.metrics import mutual_info_score\n",
    "\n",
    "age_balance = np.corrcoef(df_used.age, df_used.balance)\n",
    "day_campaign = np.corrcoef(df_used.day, df_used.campaign)\n",
    "day_pdays = np.corrcoef(df_used.day, df_used.pdays)\n",
    "pdays_previous = np.corrcoef(df_used.pdays, df_used.previous)\n",
    "\n",
    "age_balance, day_campaign, day_pdays, pdays_previous"
   ]
  },
  {
   "cell_type": "markdown",
   "id": "5cb7a274-904a-4bce-8d43-552181fbe97f",
   "metadata": {},
   "source": [
    "The biggest correlation is between `pdays` and `previous`"
   ]
  },
  {
   "cell_type": "markdown",
   "id": "328fe613-80a9-4e24-b877-801dc69f464a",
   "metadata": {},
   "source": [
    "## Encoding the target"
   ]
  },
  {
   "cell_type": "code",
   "execution_count": 20,
   "id": "96c72934-a7e3-46ae-a03b-6e7d52bad335",
   "metadata": {},
   "outputs": [
    {
     "name": "stderr",
     "output_type": "stream",
     "text": [
      "C:\\Users\\Rafiq Ramadhan\\AppData\\Local\\Temp\\ipykernel_1728\\106750611.py:1: SettingWithCopyWarning: \n",
      "A value is trying to be set on a copy of a slice from a DataFrame.\n",
      "Try using .loc[row_indexer,col_indexer] = value instead\n",
      "\n",
      "See the caveats in the documentation: https://pandas.pydata.org/pandas-docs/stable/user_guide/indexing.html#returning-a-view-versus-a-copy\n",
      "  df_used.y = (df_used.y == 'yes')\n"
     ]
    },
    {
     "data": {
      "text/html": [
       "<div>\n",
       "<style scoped>\n",
       "    .dataframe tbody tr th:only-of-type {\n",
       "        vertical-align: middle;\n",
       "    }\n",
       "\n",
       "    .dataframe tbody tr th {\n",
       "        vertical-align: top;\n",
       "    }\n",
       "\n",
       "    .dataframe thead th {\n",
       "        text-align: right;\n",
       "    }\n",
       "</style>\n",
       "<table border=\"1\" class=\"dataframe\">\n",
       "  <thead>\n",
       "    <tr style=\"text-align: right;\">\n",
       "      <th></th>\n",
       "      <th>age</th>\n",
       "      <th>job</th>\n",
       "      <th>marital</th>\n",
       "      <th>education</th>\n",
       "      <th>balance</th>\n",
       "      <th>housing</th>\n",
       "      <th>contact</th>\n",
       "      <th>day</th>\n",
       "      <th>month</th>\n",
       "      <th>duration</th>\n",
       "      <th>campaign</th>\n",
       "      <th>pdays</th>\n",
       "      <th>previous</th>\n",
       "      <th>poutcome</th>\n",
       "      <th>y</th>\n",
       "    </tr>\n",
       "  </thead>\n",
       "  <tbody>\n",
       "    <tr>\n",
       "      <th>0</th>\n",
       "      <td>58</td>\n",
       "      <td>management</td>\n",
       "      <td>married</td>\n",
       "      <td>tertiary</td>\n",
       "      <td>2143</td>\n",
       "      <td>yes</td>\n",
       "      <td>unknown</td>\n",
       "      <td>5</td>\n",
       "      <td>may</td>\n",
       "      <td>261</td>\n",
       "      <td>1</td>\n",
       "      <td>-1</td>\n",
       "      <td>0</td>\n",
       "      <td>unknown</td>\n",
       "      <td>False</td>\n",
       "    </tr>\n",
       "    <tr>\n",
       "      <th>1</th>\n",
       "      <td>44</td>\n",
       "      <td>technician</td>\n",
       "      <td>single</td>\n",
       "      <td>secondary</td>\n",
       "      <td>29</td>\n",
       "      <td>yes</td>\n",
       "      <td>unknown</td>\n",
       "      <td>5</td>\n",
       "      <td>may</td>\n",
       "      <td>151</td>\n",
       "      <td>1</td>\n",
       "      <td>-1</td>\n",
       "      <td>0</td>\n",
       "      <td>unknown</td>\n",
       "      <td>False</td>\n",
       "    </tr>\n",
       "    <tr>\n",
       "      <th>2</th>\n",
       "      <td>33</td>\n",
       "      <td>entrepreneur</td>\n",
       "      <td>married</td>\n",
       "      <td>secondary</td>\n",
       "      <td>2</td>\n",
       "      <td>yes</td>\n",
       "      <td>unknown</td>\n",
       "      <td>5</td>\n",
       "      <td>may</td>\n",
       "      <td>76</td>\n",
       "      <td>1</td>\n",
       "      <td>-1</td>\n",
       "      <td>0</td>\n",
       "      <td>unknown</td>\n",
       "      <td>False</td>\n",
       "    </tr>\n",
       "    <tr>\n",
       "      <th>3</th>\n",
       "      <td>47</td>\n",
       "      <td>blue-collar</td>\n",
       "      <td>married</td>\n",
       "      <td>unknown</td>\n",
       "      <td>1506</td>\n",
       "      <td>yes</td>\n",
       "      <td>unknown</td>\n",
       "      <td>5</td>\n",
       "      <td>may</td>\n",
       "      <td>92</td>\n",
       "      <td>1</td>\n",
       "      <td>-1</td>\n",
       "      <td>0</td>\n",
       "      <td>unknown</td>\n",
       "      <td>False</td>\n",
       "    </tr>\n",
       "    <tr>\n",
       "      <th>4</th>\n",
       "      <td>33</td>\n",
       "      <td>unknown</td>\n",
       "      <td>single</td>\n",
       "      <td>unknown</td>\n",
       "      <td>1</td>\n",
       "      <td>no</td>\n",
       "      <td>unknown</td>\n",
       "      <td>5</td>\n",
       "      <td>may</td>\n",
       "      <td>198</td>\n",
       "      <td>1</td>\n",
       "      <td>-1</td>\n",
       "      <td>0</td>\n",
       "      <td>unknown</td>\n",
       "      <td>False</td>\n",
       "    </tr>\n",
       "  </tbody>\n",
       "</table>\n",
       "</div>"
      ],
      "text/plain": [
       "   age           job  marital  education  balance housing  contact  day month  \\\n",
       "0   58    management  married   tertiary     2143     yes  unknown    5   may   \n",
       "1   44    technician   single  secondary       29     yes  unknown    5   may   \n",
       "2   33  entrepreneur  married  secondary        2     yes  unknown    5   may   \n",
       "3   47   blue-collar  married    unknown     1506     yes  unknown    5   may   \n",
       "4   33       unknown   single    unknown        1      no  unknown    5   may   \n",
       "\n",
       "   duration  campaign  pdays  previous poutcome      y  \n",
       "0       261         1     -1         0  unknown  False  \n",
       "1       151         1     -1         0  unknown  False  \n",
       "2        76         1     -1         0  unknown  False  \n",
       "3        92         1     -1         0  unknown  False  \n",
       "4       198         1     -1         0  unknown  False  "
      ]
     },
     "execution_count": 20,
     "metadata": {},
     "output_type": "execute_result"
    }
   ],
   "source": [
    "df_used.y = (df_used.y == 'yes')\n",
    "df_used.head()"
   ]
  },
  {
   "cell_type": "markdown",
   "id": "eae11c59-51da-4f40-82d3-f263eff27e85",
   "metadata": {},
   "source": [
    "## Split the data"
   ]
  },
  {
   "cell_type": "code",
   "execution_count": 22,
   "id": "1a90cb7d-a163-41b5-9dcd-8453f4bfc586",
   "metadata": {},
   "outputs": [],
   "source": [
    "from sklearn.model_selection import train_test_split"
   ]
  },
  {
   "cell_type": "code",
   "execution_count": 23,
   "id": "78f3c4ea-e19f-4a83-92ea-1457edbe3a3b",
   "metadata": {},
   "outputs": [],
   "source": [
    "df_full_train, df_test = train_test_split(df_used, test_size=0.2, random_state=42)\n",
    "df_train, df_val = train_test_split(df_full_train, test_size=0.25, random_state=42)"
   ]
  },
  {
   "cell_type": "code",
   "execution_count": 24,
   "id": "e1e8fe87-de84-476d-aa58-eb4d74a916f3",
   "metadata": {},
   "outputs": [
    {
     "data": {
      "text/html": [
       "<div>\n",
       "<style scoped>\n",
       "    .dataframe tbody tr th:only-of-type {\n",
       "        vertical-align: middle;\n",
       "    }\n",
       "\n",
       "    .dataframe tbody tr th {\n",
       "        vertical-align: top;\n",
       "    }\n",
       "\n",
       "    .dataframe thead th {\n",
       "        text-align: right;\n",
       "    }\n",
       "</style>\n",
       "<table border=\"1\" class=\"dataframe\">\n",
       "  <thead>\n",
       "    <tr style=\"text-align: right;\">\n",
       "      <th></th>\n",
       "      <th>age</th>\n",
       "      <th>job</th>\n",
       "      <th>marital</th>\n",
       "      <th>education</th>\n",
       "      <th>balance</th>\n",
       "      <th>housing</th>\n",
       "      <th>contact</th>\n",
       "      <th>day</th>\n",
       "      <th>month</th>\n",
       "      <th>duration</th>\n",
       "      <th>campaign</th>\n",
       "      <th>pdays</th>\n",
       "      <th>previous</th>\n",
       "      <th>poutcome</th>\n",
       "      <th>y</th>\n",
       "    </tr>\n",
       "  </thead>\n",
       "  <tbody>\n",
       "    <tr>\n",
       "      <th>20326</th>\n",
       "      <td>32</td>\n",
       "      <td>technician</td>\n",
       "      <td>single</td>\n",
       "      <td>tertiary</td>\n",
       "      <td>1100</td>\n",
       "      <td>yes</td>\n",
       "      <td>cellular</td>\n",
       "      <td>11</td>\n",
       "      <td>aug</td>\n",
       "      <td>67</td>\n",
       "      <td>1</td>\n",
       "      <td>-1</td>\n",
       "      <td>0</td>\n",
       "      <td>unknown</td>\n",
       "      <td>False</td>\n",
       "    </tr>\n",
       "    <tr>\n",
       "      <th>24301</th>\n",
       "      <td>38</td>\n",
       "      <td>entrepreneur</td>\n",
       "      <td>married</td>\n",
       "      <td>secondary</td>\n",
       "      <td>0</td>\n",
       "      <td>yes</td>\n",
       "      <td>cellular</td>\n",
       "      <td>17</td>\n",
       "      <td>nov</td>\n",
       "      <td>258</td>\n",
       "      <td>1</td>\n",
       "      <td>-1</td>\n",
       "      <td>0</td>\n",
       "      <td>unknown</td>\n",
       "      <td>False</td>\n",
       "    </tr>\n",
       "    <tr>\n",
       "      <th>38618</th>\n",
       "      <td>49</td>\n",
       "      <td>blue-collar</td>\n",
       "      <td>married</td>\n",
       "      <td>secondary</td>\n",
       "      <td>3309</td>\n",
       "      <td>yes</td>\n",
       "      <td>cellular</td>\n",
       "      <td>15</td>\n",
       "      <td>may</td>\n",
       "      <td>349</td>\n",
       "      <td>2</td>\n",
       "      <td>-1</td>\n",
       "      <td>0</td>\n",
       "      <td>unknown</td>\n",
       "      <td>False</td>\n",
       "    </tr>\n",
       "    <tr>\n",
       "      <th>18909</th>\n",
       "      <td>37</td>\n",
       "      <td>housemaid</td>\n",
       "      <td>married</td>\n",
       "      <td>primary</td>\n",
       "      <td>2410</td>\n",
       "      <td>no</td>\n",
       "      <td>cellular</td>\n",
       "      <td>4</td>\n",
       "      <td>aug</td>\n",
       "      <td>315</td>\n",
       "      <td>1</td>\n",
       "      <td>-1</td>\n",
       "      <td>0</td>\n",
       "      <td>unknown</td>\n",
       "      <td>False</td>\n",
       "    </tr>\n",
       "    <tr>\n",
       "      <th>23081</th>\n",
       "      <td>31</td>\n",
       "      <td>self-employed</td>\n",
       "      <td>married</td>\n",
       "      <td>tertiary</td>\n",
       "      <td>3220</td>\n",
       "      <td>no</td>\n",
       "      <td>cellular</td>\n",
       "      <td>26</td>\n",
       "      <td>aug</td>\n",
       "      <td>74</td>\n",
       "      <td>4</td>\n",
       "      <td>-1</td>\n",
       "      <td>0</td>\n",
       "      <td>unknown</td>\n",
       "      <td>False</td>\n",
       "    </tr>\n",
       "    <tr>\n",
       "      <th>...</th>\n",
       "      <td>...</td>\n",
       "      <td>...</td>\n",
       "      <td>...</td>\n",
       "      <td>...</td>\n",
       "      <td>...</td>\n",
       "      <td>...</td>\n",
       "      <td>...</td>\n",
       "      <td>...</td>\n",
       "      <td>...</td>\n",
       "      <td>...</td>\n",
       "      <td>...</td>\n",
       "      <td>...</td>\n",
       "      <td>...</td>\n",
       "      <td>...</td>\n",
       "      <td>...</td>\n",
       "    </tr>\n",
       "    <tr>\n",
       "      <th>13264</th>\n",
       "      <td>27</td>\n",
       "      <td>services</td>\n",
       "      <td>single</td>\n",
       "      <td>secondary</td>\n",
       "      <td>167</td>\n",
       "      <td>no</td>\n",
       "      <td>cellular</td>\n",
       "      <td>8</td>\n",
       "      <td>jul</td>\n",
       "      <td>606</td>\n",
       "      <td>2</td>\n",
       "      <td>-1</td>\n",
       "      <td>0</td>\n",
       "      <td>unknown</td>\n",
       "      <td>False</td>\n",
       "    </tr>\n",
       "    <tr>\n",
       "      <th>28829</th>\n",
       "      <td>40</td>\n",
       "      <td>technician</td>\n",
       "      <td>single</td>\n",
       "      <td>tertiary</td>\n",
       "      <td>693</td>\n",
       "      <td>no</td>\n",
       "      <td>cellular</td>\n",
       "      <td>30</td>\n",
       "      <td>jan</td>\n",
       "      <td>427</td>\n",
       "      <td>1</td>\n",
       "      <td>-1</td>\n",
       "      <td>0</td>\n",
       "      <td>unknown</td>\n",
       "      <td>False</td>\n",
       "    </tr>\n",
       "    <tr>\n",
       "      <th>3844</th>\n",
       "      <td>54</td>\n",
       "      <td>technician</td>\n",
       "      <td>divorced</td>\n",
       "      <td>secondary</td>\n",
       "      <td>0</td>\n",
       "      <td>yes</td>\n",
       "      <td>unknown</td>\n",
       "      <td>16</td>\n",
       "      <td>may</td>\n",
       "      <td>161</td>\n",
       "      <td>1</td>\n",
       "      <td>-1</td>\n",
       "      <td>0</td>\n",
       "      <td>unknown</td>\n",
       "      <td>False</td>\n",
       "    </tr>\n",
       "    <tr>\n",
       "      <th>15597</th>\n",
       "      <td>25</td>\n",
       "      <td>services</td>\n",
       "      <td>single</td>\n",
       "      <td>secondary</td>\n",
       "      <td>2311</td>\n",
       "      <td>no</td>\n",
       "      <td>cellular</td>\n",
       "      <td>21</td>\n",
       "      <td>jul</td>\n",
       "      <td>1105</td>\n",
       "      <td>2</td>\n",
       "      <td>-1</td>\n",
       "      <td>0</td>\n",
       "      <td>unknown</td>\n",
       "      <td>True</td>\n",
       "    </tr>\n",
       "    <tr>\n",
       "      <th>22987</th>\n",
       "      <td>30</td>\n",
       "      <td>management</td>\n",
       "      <td>single</td>\n",
       "      <td>tertiary</td>\n",
       "      <td>15</td>\n",
       "      <td>no</td>\n",
       "      <td>cellular</td>\n",
       "      <td>26</td>\n",
       "      <td>aug</td>\n",
       "      <td>252</td>\n",
       "      <td>2</td>\n",
       "      <td>-1</td>\n",
       "      <td>0</td>\n",
       "      <td>unknown</td>\n",
       "      <td>False</td>\n",
       "    </tr>\n",
       "  </tbody>\n",
       "</table>\n",
       "<p>27126 rows × 15 columns</p>\n",
       "</div>"
      ],
      "text/plain": [
       "       age            job   marital  education  balance housing   contact  \\\n",
       "20326   32     technician    single   tertiary     1100     yes  cellular   \n",
       "24301   38   entrepreneur   married  secondary        0     yes  cellular   \n",
       "38618   49    blue-collar   married  secondary     3309     yes  cellular   \n",
       "18909   37      housemaid   married    primary     2410      no  cellular   \n",
       "23081   31  self-employed   married   tertiary     3220      no  cellular   \n",
       "...    ...            ...       ...        ...      ...     ...       ...   \n",
       "13264   27       services    single  secondary      167      no  cellular   \n",
       "28829   40     technician    single   tertiary      693      no  cellular   \n",
       "3844    54     technician  divorced  secondary        0     yes   unknown   \n",
       "15597   25       services    single  secondary     2311      no  cellular   \n",
       "22987   30     management    single   tertiary       15      no  cellular   \n",
       "\n",
       "       day month  duration  campaign  pdays  previous poutcome      y  \n",
       "20326   11   aug        67         1     -1         0  unknown  False  \n",
       "24301   17   nov       258         1     -1         0  unknown  False  \n",
       "38618   15   may       349         2     -1         0  unknown  False  \n",
       "18909    4   aug       315         1     -1         0  unknown  False  \n",
       "23081   26   aug        74         4     -1         0  unknown  False  \n",
       "...    ...   ...       ...       ...    ...       ...      ...    ...  \n",
       "13264    8   jul       606         2     -1         0  unknown  False  \n",
       "28829   30   jan       427         1     -1         0  unknown  False  \n",
       "3844    16   may       161         1     -1         0  unknown  False  \n",
       "15597   21   jul      1105         2     -1         0  unknown   True  \n",
       "22987   26   aug       252         2     -1         0  unknown  False  \n",
       "\n",
       "[27126 rows x 15 columns]"
      ]
     },
     "execution_count": 24,
     "metadata": {},
     "output_type": "execute_result"
    }
   ],
   "source": [
    "df_train"
   ]
  },
  {
   "cell_type": "code",
   "execution_count": 25,
   "id": "3c0c4d45-dad7-42b9-bb6a-c8af965d961a",
   "metadata": {},
   "outputs": [],
   "source": [
    "df_train = df_train.reset_index()\n",
    "df_val = df_val.reset_index()\n",
    "df_test = df_test.reset_index()\n",
    "\n",
    "y_train = df_train.y\n",
    "y_val = df_val.y\n",
    "y_test = df_test.y"
   ]
  },
  {
   "cell_type": "markdown",
   "id": "2b260edf-bbab-4ff4-a85c-fa703cabf492",
   "metadata": {},
   "source": [
    "## Q3: Mutual Information Score"
   ]
  },
  {
   "cell_type": "code",
   "execution_count": 27,
   "id": "a688bf81-e824-48e0-a523-247f0b407355",
   "metadata": {},
   "outputs": [],
   "source": [
    "from sklearn.metrics import mutual_info_score"
   ]
  },
  {
   "cell_type": "code",
   "execution_count": 28,
   "id": "df5e4092-35d0-46ff-b1ee-749a329c7977",
   "metadata": {},
   "outputs": [],
   "source": [
    "def mutual_info_y_score(series):\n",
    "    return mutual_info_score(series, df_train.y)"
   ]
  },
  {
   "cell_type": "code",
   "execution_count": 29,
   "id": "ad71730b-a771-4794-a1c5-f2bee5532a27",
   "metadata": {},
   "outputs": [],
   "source": [
    "categorical = ['job', 'marital', 'education', 'housing', 'contact', 'month', 'poutcome']"
   ]
  },
  {
   "cell_type": "code",
   "execution_count": 30,
   "id": "411bcf21-b411-4957-bec1-dd3e9f703f78",
   "metadata": {},
   "outputs": [
    {
     "data": {
      "text/plain": [
       "poutcome     0.030\n",
       "month        0.025\n",
       "contact      0.013\n",
       "housing      0.010\n",
       "job          0.007\n",
       "education    0.003\n",
       "marital      0.002\n",
       "dtype: float64"
      ]
     },
     "execution_count": 30,
     "metadata": {},
     "output_type": "execute_result"
    }
   ],
   "source": [
    "mi = df_train[categorical].apply(mutual_info_y_score)\n",
    "mi = mi.round(3)\n",
    "mi.sort_values(ascending=False)"
   ]
  },
  {
   "cell_type": "markdown",
   "id": "c70b2c31-dcc4-4494-8d05-3249999722d8",
   "metadata": {},
   "source": [
    "The biggest score is `poutcome` with `0.03`. I used rounding into 3 digits instead of two, cause `poutcome` and `month` will round into the same number `0.03`, more accurate using 3 digits."
   ]
  },
  {
   "cell_type": "markdown",
   "id": "68b9deec-8bbc-43c9-a758-4d2318890f9b",
   "metadata": {},
   "source": [
    "## Q4: Logistic Regression"
   ]
  },
  {
   "cell_type": "code",
   "execution_count": 33,
   "id": "05e65f8b-c381-48c5-b11a-708324c59087",
   "metadata": {},
   "outputs": [],
   "source": [
    "from sklearn.linear_model import LogisticRegression\n",
    "from sklearn.feature_extraction import DictVectorizer"
   ]
  },
  {
   "cell_type": "code",
   "execution_count": 34,
   "id": "693f8a19-7269-45f8-9e31-dca74215de2d",
   "metadata": {},
   "outputs": [],
   "source": [
    "del df_train['y']\n",
    "del df_val['y']\n",
    "del df_test['y']"
   ]
  },
  {
   "cell_type": "code",
   "execution_count": 35,
   "id": "0d5fb2cb-5649-48e6-b765-557131dfdfe3",
   "metadata": {},
   "outputs": [],
   "source": [
    "def train(df, y, C=1.0, max_iter=1000, random_state=42):\n",
    "    train_dicts = df.to_dict(orient='records')\n",
    "    dv = DictVectorizer(sparse=False)\n",
    "    X_train = dv.fit_transform(train_dicts)\n",
    "\n",
    "    model = LogisticRegression(solver='liblinear', C=C, max_iter=max_iter, random_state=random_state)\n",
    "    model.fit(X_train, y)\n",
    "    \n",
    "    return dv, model"
   ]
  },
  {
   "cell_type": "code",
   "execution_count": 36,
   "id": "f165e039-082f-45c7-a51d-db2d3956d403",
   "metadata": {},
   "outputs": [],
   "source": [
    "def predict(dv, model, df, y):\n",
    "    test_dicts = df.to_dict(orient='records')\n",
    "    X_test = dv.transform(test_dicts)\n",
    "\n",
    "    y_pred = model.predict_proba(X_test)[:,1]\n",
    "\n",
    "    y_decision = (y_pred >= 0.5)\n",
    "    score = (y == y_decision).mean()\n",
    "\n",
    "    return score, y_pred"
   ]
  },
  {
   "cell_type": "code",
   "execution_count": 37,
   "id": "7a7166e9-dfdd-45b6-834a-e800a103f7a2",
   "metadata": {},
   "outputs": [],
   "source": [
    "dv, model = train(df_train, y_train)"
   ]
  },
  {
   "cell_type": "code",
   "execution_count": 38,
   "id": "4a006cea-945b-43e8-b063-50650a1cb05f",
   "metadata": {},
   "outputs": [
    {
     "data": {
      "text/plain": [
       "0.8942711789427118"
      ]
     },
     "execution_count": 38,
     "metadata": {},
     "output_type": "execute_result"
    }
   ],
   "source": [
    "score_all, y_pred = predict(dv, model, df_val, y_val)\n",
    "score_all"
   ]
  },
  {
   "cell_type": "markdown",
   "id": "70294aad-37f5-4eef-b64c-eb00c66d6a05",
   "metadata": {},
   "source": [
    "## Q5: Find the smallest impact feature"
   ]
  },
  {
   "cell_type": "code",
   "execution_count": 40,
   "id": "d3805cb3-3f78-4075-bedc-1b4de221539e",
   "metadata": {},
   "outputs": [
    {
     "data": {
      "text/plain": [
       "['age',\n",
       " 'job',\n",
       " 'marital',\n",
       " 'education',\n",
       " 'balance',\n",
       " 'housing',\n",
       " 'contact',\n",
       " 'day',\n",
       " 'month',\n",
       " 'duration',\n",
       " 'campaign',\n",
       " 'pdays',\n",
       " 'previous',\n",
       " 'poutcome',\n",
       " 'y']"
      ]
     },
     "execution_count": 40,
     "metadata": {},
     "output_type": "execute_result"
    }
   ],
   "source": [
    "features"
   ]
  },
  {
   "cell_type": "code",
   "execution_count": 41,
   "id": "d0a7784b-6cee-4b9e-84ed-06d77dfab652",
   "metadata": {},
   "outputs": [],
   "source": [
    "feature_used = ['age', 'job', 'marital', 'education', 'balance', 'housing',\n",
    "                'contact', 'day', 'month', 'duration', 'campaign', 'pdays', \n",
    "                'previous', 'poutcome']"
   ]
  },
  {
   "cell_type": "code",
   "execution_count": 78,
   "id": "55e34a3e-0a3b-453a-8eb7-455942d48504",
   "metadata": {},
   "outputs": [
    {
     "name": "stdout",
     "output_type": "stream",
     "text": [
      "remove age, with accuracy 0.9002433090024331, with difference using all features 0.006\n",
      "remove job, with accuracy 0.9011280690112807, with difference using all features 0.007\n",
      "remove marital, with accuracy 0.9012386640123866, with difference using all features 0.007\n",
      "remove education, with accuracy 0.9010174740101747, with difference using all features 0.007\n",
      "remove balance, with accuracy 0.9006856890068569, with difference using all features 0.006\n",
      "remove housing, with accuracy 0.9010174740101747, with difference using all features 0.007\n",
      "remove contact, with accuracy 0.900353904003539, with difference using all features 0.006\n",
      "remove day, with accuracy 0.9001327140013271, with difference using all features 0.006\n",
      "remove month, with accuracy 0.8999115239991152, with difference using all features 0.006\n",
      "remove duration, with accuracy 0.8901791639017916, with difference using all features -0.004\n",
      "remove campaign, with accuracy 0.9007962840079629, with difference using all features 0.007\n",
      "remove pdays, with accuracy 0.9014598540145985, with difference using all features 0.007\n",
      "remove previous, with accuracy 0.9013492590134926, with difference using all features 0.007\n",
      "remove poutcome, with accuracy 0.8941605839416058, with difference using all features -0.0\n"
     ]
    }
   ],
   "source": [
    "for n in range(len(feature_used)):\n",
    "    list_features = feature_used[:n] + feature_used[n+1:]\n",
    "    dv, model = train(df_train[list_features], y_train)\n",
    "    score, y_pred = predict(dv, model, df_val[list_features], y_val)\n",
    "\n",
    "    print(f'remove {feature_used[n]}, with accuracy {score}, with difference using all features {(score - score_all).round(3)}')"
   ]
  },
  {
   "cell_type": "markdown",
   "id": "73cb40c6-e376-4765-924d-a9ae8a67672f",
   "metadata": {},
   "source": [
    "the smallest impact to the model is `poutcome` with the difference is `-0.0001` "
   ]
  },
  {
   "cell_type": "markdown",
   "id": "194a3a99-38f4-4bb8-9425-f08531afae69",
   "metadata": {},
   "source": [
    "## Q6: Regularization"
   ]
  },
  {
   "cell_type": "code",
   "execution_count": 45,
   "id": "a8a8f8da-56ef-4d6b-867c-f64221592c7a",
   "metadata": {},
   "outputs": [
    {
     "name": "stdout",
     "output_type": "stream",
     "text": [
      "0.01\t: 0.894\n",
      "0.1\t: 0.894\n",
      "1\t: 0.894\n",
      "10\t: 0.895\n",
      "100\t: 0.894\n"
     ]
    }
   ],
   "source": [
    "C = [0.01, 0.1, 1, 10, 100]\n",
    "\n",
    "for num in C:\n",
    "    dv, model = train(df_train, y_train, C=num)\n",
    "    score, y_pred = predict(dv, model, df_val, y_val)\n",
    "\n",
    "    print(f'{num}\\t: {score.round(3)}')"
   ]
  },
  {
   "cell_type": "code",
   "execution_count": null,
   "id": "8624829b-f828-4ef7-9d3c-6351979473e7",
   "metadata": {},
   "outputs": [],
   "source": []
  }
 ],
 "metadata": {
  "kernelspec": {
   "display_name": "Python 3 (ipykernel)",
   "language": "python",
   "name": "python3"
  },
  "language_info": {
   "codemirror_mode": {
    "name": "ipython",
    "version": 3
   },
   "file_extension": ".py",
   "mimetype": "text/x-python",
   "name": "python",
   "nbconvert_exporter": "python",
   "pygments_lexer": "ipython3",
   "version": "3.12.4"
  }
 },
 "nbformat": 4,
 "nbformat_minor": 5
}
